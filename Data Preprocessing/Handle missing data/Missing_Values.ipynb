{
 "cells": [
  {
   "cell_type": "code",
   "execution_count": 1,
   "metadata": {},
   "outputs": [],
   "source": [
    "# importing pandas to get dataset\n",
    "import pandas as pd\n",
    "import numpy as np"
   ]
  },
  {
   "cell_type": "code",
   "execution_count": 2,
   "metadata": {},
   "outputs": [],
   "source": [
    "# using read_csv\n",
    "data = pd.read_csv(\"AirQualityUCI.csv\")"
   ]
  },
  {
   "cell_type": "code",
   "execution_count": 3,
   "metadata": {},
   "outputs": [
    {
     "name": "stdout",
     "output_type": "stream",
     "text": [
      "            Date      Time  CO(GT)  PT08.S1(CO)  NMHC(GT)  C6H6(GT)  \\\n",
      "0     10-03-2004  18.00.00       2            6      1360       150   \n",
      "1     10-03-2004  19.00.00       2         1292       112         9   \n",
      "2     10-03-2004  20.00.00       2            2      1402        88   \n",
      "3     10-03-2004  21.00.00       2            2      1376        80   \n",
      "4     10-03-2004  22.00.00       1            6      1272        51   \n",
      "...          ...       ...     ...          ...       ...       ...   \n",
      "9352  04-04-2005  10.00.00       3            1      1314      -200   \n",
      "9353  04-04-2005  11.00.00       2            4      1163      -200   \n",
      "9354  04-04-2005  12.00.00       2            4      1142      -200   \n",
      "9355  04-04-2005  13.00.00       2            1      1003      -200   \n",
      "9356  04-04-2005  14.00.00       2            2      1071      -200   \n",
      "\n",
      "      PT08.S2(NMHC)  NOx(GT)  PT08.S3(NOx)  NO2(GT)  PT08.S4(NO2)  \\\n",
      "0                11        9          1046      166          1056   \n",
      "1                 4      955           103     1174            92   \n",
      "2                 9        0           939      131          1140   \n",
      "3                 9        2           948      172          1092   \n",
      "4                 6        5           836      131          1205   \n",
      "...             ...      ...           ...      ...           ...   \n",
      "9352             13        5          1101      472           539   \n",
      "9353             11        4          1027      353           604   \n",
      "9354             12        4          1063      293           603   \n",
      "9355              9        5           961      235           702   \n",
      "9356             11        9          1047      265           654   \n",
      "\n",
      "      PT08.S5(O3)     T    RH  AH  col_1  col_2  col_3   col_4       X  \n",
      "0             113  1692  1268  13      6   48.0    9.0     0.0  7578.0  \n",
      "1            1559   972    13   3     47    7.0    0.0  7255.0     NaN  \n",
      "2             114  1555  1074  11      9   54.0    0.0     0.0  7502.0  \n",
      "3             122  1584  1203  11      0   60.0    0.0     0.0  7867.0  \n",
      "4             116  1490  1110  11      2   59.0    6.0     0.0  7888.0  \n",
      "...           ...   ...   ...  ..    ...    ...    ...     ...     ...  \n",
      "9352          190  1374  1729  21      9   29.0    3.0     0.0  7568.0  \n",
      "9353          179  1264  1269  24      3   23.0    7.0     0.0  7119.0  \n",
      "9354          175  1241  1092  26      9   18.0    3.0     0.0  6406.0  \n",
      "9355          156  1041   770  28      3   13.0    5.0     0.0  5139.0  \n",
      "9356          168  1129   816  28      5   13.0    1.0     0.0  5028.0  \n",
      "\n",
      "[9357 rows x 20 columns]\n"
     ]
    }
   ],
   "source": [
    "# printing data\n",
    "print(data)"
   ]
  },
  {
   "cell_type": "code",
   "execution_count": 4,
   "metadata": {},
   "outputs": [],
   "source": [
    "# creating 3 variables to consider replacing np.nan with mean, median, and mode\n",
    "\n",
    "data_mean = data\n",
    "data_median = data\n",
    "data_mode = data"
   ]
  },
  {
   "cell_type": "code",
   "execution_count": 5,
   "metadata": {},
   "outputs": [],
   "source": [
    "# Importing Imputer library from sklearn.preprocessing to take care of missing data\n",
    "from sklearn.impute import SimpleImputer"
   ]
  },
  {
   "cell_type": "code",
   "execution_count": 6,
   "metadata": {},
   "outputs": [],
   "source": [
    "# Creating object of imputer class which calculates mean of the column values to replace the NaN values\n",
    "\n",
    "\"\"\"\n",
    "Parameters:\n",
    "1. missing_values: int or NaN(default)\n",
    "2. strategy: mean(default), median, most_frequent (ie mode)\n",
    "3. axis: 0(default)(impute along columns) 1(impute along rows)\n",
    "4. verbose: 0(default) [verbose inshort tells the logging info. ref: https://stats.stackexchange.com/questions/153823/what-is-verbose-in-scikit-learn-package-of-python]\n",
    "5. copy: True(default)(copy of x created)\n",
    "\"\"\"\n",
    "\n",
    "imputer_mean = SimpleImputer(missing_values = np.nan, strategy = 'mean',  verbose = 0, copy = True)"
   ]
  },
  {
   "cell_type": "code",
   "execution_count": 7,
   "metadata": {},
   "outputs": [],
   "source": [
    "\"\"\"\n",
    "fit the imputer on the data\n",
    "\"\"\"\n",
    "\n",
    "\"\"\"\n",
    "data_mean.iloc[:, 2:16] as to select all rows and the columns from 2 to 15\n",
    "\"\"\"\n",
    "\n",
    "imputer_mean = imputer_mean.fit(data_mean.iloc[:, 2:21])"
   ]
  },
  {
   "cell_type": "code",
   "execution_count": 8,
   "metadata": {},
   "outputs": [],
   "source": [
    "\"\"\"\n",
    "impute all missing values in the dataset\n",
    "\"\"\"\n",
    "\n",
    "data_mean.iloc[:, 2:21] = imputer_mean.transform(data_mean.iloc[:, 2:21])"
   ]
  },
  {
   "cell_type": "code",
   "execution_count": 9,
   "metadata": {},
   "outputs": [
    {
     "name": "stdout",
     "output_type": "stream",
     "text": [
      "            Date      Time  CO(GT)  PT08.S1(CO)  NMHC(GT)  C6H6(GT)  \\\n",
      "0     10-03-2004  18.00.00     2.0          6.0    1360.0     150.0   \n",
      "1     10-03-2004  19.00.00     2.0       1292.0     112.0       9.0   \n",
      "2     10-03-2004  20.00.00     2.0          2.0    1402.0      88.0   \n",
      "3     10-03-2004  21.00.00     2.0          2.0    1376.0      80.0   \n",
      "4     10-03-2004  22.00.00     1.0          6.0    1272.0      51.0   \n",
      "...          ...       ...     ...          ...       ...       ...   \n",
      "9352  04-04-2005  10.00.00     3.0          1.0    1314.0    -200.0   \n",
      "9353  04-04-2005  11.00.00     2.0          4.0    1163.0    -200.0   \n",
      "9354  04-04-2005  12.00.00     2.0          4.0    1142.0    -200.0   \n",
      "9355  04-04-2005  13.00.00     2.0          1.0    1003.0    -200.0   \n",
      "9356  04-04-2005  14.00.00     2.0          2.0    1071.0    -200.0   \n",
      "\n",
      "      PT08.S2(NMHC)  NOx(GT)  PT08.S3(NOx)  NO2(GT)  PT08.S4(NO2)  \\\n",
      "0              11.0      9.0        1046.0    166.0        1056.0   \n",
      "1               4.0    955.0         103.0   1174.0          92.0   \n",
      "2               9.0      0.0         939.0    131.0        1140.0   \n",
      "3               9.0      2.0         948.0    172.0        1092.0   \n",
      "4               6.0      5.0         836.0    131.0        1205.0   \n",
      "...             ...      ...           ...      ...           ...   \n",
      "9352           13.0      5.0        1101.0    472.0         539.0   \n",
      "9353           11.0      4.0        1027.0    353.0         604.0   \n",
      "9354           12.0      4.0        1063.0    293.0         603.0   \n",
      "9355            9.0      5.0         961.0    235.0         702.0   \n",
      "9356           11.0      9.0        1047.0    265.0         654.0   \n",
      "\n",
      "      PT08.S5(O3)       T      RH    AH  col_1  col_2  col_3   col_4  \\\n",
      "0           113.0  1692.0  1268.0  13.0    6.0   48.0    9.0     0.0   \n",
      "1          1559.0   972.0    13.0   3.0   47.0    7.0    0.0  7255.0   \n",
      "2           114.0  1555.0  1074.0  11.0    9.0   54.0    0.0     0.0   \n",
      "3           122.0  1584.0  1203.0  11.0    0.0   60.0    0.0     0.0   \n",
      "4           116.0  1490.0  1110.0  11.0    2.0   59.0    6.0     0.0   \n",
      "...           ...     ...     ...   ...    ...    ...    ...     ...   \n",
      "9352        190.0  1374.0  1729.0  21.0    9.0   29.0    3.0     0.0   \n",
      "9353        179.0  1264.0  1269.0  24.0    3.0   23.0    7.0     0.0   \n",
      "9354        175.0  1241.0  1092.0  26.0    9.0   18.0    3.0     0.0   \n",
      "9355        156.0  1041.0   770.0  28.0    3.0   13.0    5.0     0.0   \n",
      "9356        168.0  1129.0   816.0  28.0    5.0   13.0    1.0     0.0   \n",
      "\n",
      "                X  \n",
      "0     7578.000000  \n",
      "1     5245.150253  \n",
      "2     7502.000000  \n",
      "3     7867.000000  \n",
      "4     7888.000000  \n",
      "...           ...  \n",
      "9352  7568.000000  \n",
      "9353  7119.000000  \n",
      "9354  6406.000000  \n",
      "9355  5139.000000  \n",
      "9356  5028.000000  \n",
      "\n",
      "[9357 rows x 20 columns]\n"
     ]
    }
   ],
   "source": [
    "print(data_mean)"
   ]
  },
  {
   "cell_type": "code",
   "execution_count": 10,
   "metadata": {},
   "outputs": [],
   "source": [
    "# create object of Simple Imputer class, stategy 'median'\n",
    "\n",
    "imputer_median = SimpleImputer(missing_values = np.nan, strategy = 'median',  verbose = 0, copy = True)"
   ]
  },
  {
   "cell_type": "code",
   "execution_count": 11,
   "metadata": {},
   "outputs": [],
   "source": [
    "\"\"\"\n",
    "fit the imputer on the data\n",
    "\"\"\"\n",
    "\n",
    "\"\"\"\n",
    "data_mean.iloc[:, 2:16] as to select all rows and the columns from 2 to 15\n",
    "\"\"\"\n",
    "\n",
    "imputer_median = imputer_median.fit(data_median.iloc[:, 2:21])"
   ]
  },
  {
   "cell_type": "code",
   "execution_count": 12,
   "metadata": {},
   "outputs": [],
   "source": [
    "\"\"\"\n",
    "impute all missing values in the dataset\n",
    "\"\"\"\n",
    "\n",
    "data_median.iloc[:, 2:21] = imputer_mean.transform(data_median.iloc[:, 2:21])"
   ]
  },
  {
   "cell_type": "code",
   "execution_count": 13,
   "metadata": {},
   "outputs": [
    {
     "name": "stdout",
     "output_type": "stream",
     "text": [
      "            Date      Time  CO(GT)  PT08.S1(CO)  NMHC(GT)  C6H6(GT)  \\\n",
      "0     10-03-2004  18.00.00     2.0          6.0    1360.0     150.0   \n",
      "1     10-03-2004  19.00.00     2.0       1292.0     112.0       9.0   \n",
      "2     10-03-2004  20.00.00     2.0          2.0    1402.0      88.0   \n",
      "3     10-03-2004  21.00.00     2.0          2.0    1376.0      80.0   \n",
      "4     10-03-2004  22.00.00     1.0          6.0    1272.0      51.0   \n",
      "...          ...       ...     ...          ...       ...       ...   \n",
      "9352  04-04-2005  10.00.00     3.0          1.0    1314.0    -200.0   \n",
      "9353  04-04-2005  11.00.00     2.0          4.0    1163.0    -200.0   \n",
      "9354  04-04-2005  12.00.00     2.0          4.0    1142.0    -200.0   \n",
      "9355  04-04-2005  13.00.00     2.0          1.0    1003.0    -200.0   \n",
      "9356  04-04-2005  14.00.00     2.0          2.0    1071.0    -200.0   \n",
      "\n",
      "      PT08.S2(NMHC)  NOx(GT)  PT08.S3(NOx)  NO2(GT)  PT08.S4(NO2)  \\\n",
      "0              11.0      9.0        1046.0    166.0        1056.0   \n",
      "1               4.0    955.0         103.0   1174.0          92.0   \n",
      "2               9.0      0.0         939.0    131.0        1140.0   \n",
      "3               9.0      2.0         948.0    172.0        1092.0   \n",
      "4               6.0      5.0         836.0    131.0        1205.0   \n",
      "...             ...      ...           ...      ...           ...   \n",
      "9352           13.0      5.0        1101.0    472.0         539.0   \n",
      "9353           11.0      4.0        1027.0    353.0         604.0   \n",
      "9354           12.0      4.0        1063.0    293.0         603.0   \n",
      "9355            9.0      5.0         961.0    235.0         702.0   \n",
      "9356           11.0      9.0        1047.0    265.0         654.0   \n",
      "\n",
      "      PT08.S5(O3)       T      RH    AH  col_1  col_2  col_3   col_4  \\\n",
      "0           113.0  1692.0  1268.0  13.0    6.0   48.0    9.0     0.0   \n",
      "1          1559.0   972.0    13.0   3.0   47.0    7.0    0.0  7255.0   \n",
      "2           114.0  1555.0  1074.0  11.0    9.0   54.0    0.0     0.0   \n",
      "3           122.0  1584.0  1203.0  11.0    0.0   60.0    0.0     0.0   \n",
      "4           116.0  1490.0  1110.0  11.0    2.0   59.0    6.0     0.0   \n",
      "...           ...     ...     ...   ...    ...    ...    ...     ...   \n",
      "9352        190.0  1374.0  1729.0  21.0    9.0   29.0    3.0     0.0   \n",
      "9353        179.0  1264.0  1269.0  24.0    3.0   23.0    7.0     0.0   \n",
      "9354        175.0  1241.0  1092.0  26.0    9.0   18.0    3.0     0.0   \n",
      "9355        156.0  1041.0   770.0  28.0    3.0   13.0    5.0     0.0   \n",
      "9356        168.0  1129.0   816.0  28.0    5.0   13.0    1.0     0.0   \n",
      "\n",
      "                X  \n",
      "0     7578.000000  \n",
      "1     5245.150253  \n",
      "2     7502.000000  \n",
      "3     7867.000000  \n",
      "4     7888.000000  \n",
      "...           ...  \n",
      "9352  7568.000000  \n",
      "9353  7119.000000  \n",
      "9354  6406.000000  \n",
      "9355  5139.000000  \n",
      "9356  5028.000000  \n",
      "\n",
      "[9357 rows x 20 columns]\n"
     ]
    }
   ],
   "source": [
    "print(data_median)"
   ]
  },
  {
   "cell_type": "code",
   "execution_count": 14,
   "metadata": {},
   "outputs": [],
   "source": [
    "# create object of Simple Imputer class, stategy 'median'\n",
    "\n",
    "imputer_mode = SimpleImputer(missing_values = np.nan, strategy = 'most_frequent',  verbose = 0, copy = True)"
   ]
  },
  {
   "cell_type": "code",
   "execution_count": 15,
   "metadata": {},
   "outputs": [],
   "source": [
    "\"\"\"\n",
    "fit the imputer on the data\n",
    "\"\"\"\n",
    "\n",
    "\"\"\"\n",
    "data_mean.iloc[:, 2:16] as to select all rows and the columns from 2 to 15\n",
    "\"\"\"\n",
    "\n",
    "imputer_mode = imputer_mode.fit(data_mode.iloc[:, 2:21])"
   ]
  },
  {
   "cell_type": "code",
   "execution_count": 16,
   "metadata": {},
   "outputs": [],
   "source": [
    "\"\"\"\n",
    "impute all missing values in the dataset\n",
    "\"\"\"\n",
    "\n",
    "data_mode.iloc[:, 2:21] = imputer_mode.transform(data_mode.iloc[:, 2:21])"
   ]
  },
  {
   "cell_type": "code",
   "execution_count": 17,
   "metadata": {},
   "outputs": [
    {
     "name": "stdout",
     "output_type": "stream",
     "text": [
      "            Date      Time  CO(GT)  PT08.S1(CO)  NMHC(GT)  C6H6(GT)  \\\n",
      "0     10-03-2004  18.00.00     2.0          6.0    1360.0     150.0   \n",
      "1     10-03-2004  19.00.00     2.0       1292.0     112.0       9.0   \n",
      "2     10-03-2004  20.00.00     2.0          2.0    1402.0      88.0   \n",
      "3     10-03-2004  21.00.00     2.0          2.0    1376.0      80.0   \n",
      "4     10-03-2004  22.00.00     1.0          6.0    1272.0      51.0   \n",
      "...          ...       ...     ...          ...       ...       ...   \n",
      "9352  04-04-2005  10.00.00     3.0          1.0    1314.0    -200.0   \n",
      "9353  04-04-2005  11.00.00     2.0          4.0    1163.0    -200.0   \n",
      "9354  04-04-2005  12.00.00     2.0          4.0    1142.0    -200.0   \n",
      "9355  04-04-2005  13.00.00     2.0          1.0    1003.0    -200.0   \n",
      "9356  04-04-2005  14.00.00     2.0          2.0    1071.0    -200.0   \n",
      "\n",
      "      PT08.S2(NMHC)  NOx(GT)  PT08.S3(NOx)  NO2(GT)  PT08.S4(NO2)  \\\n",
      "0              11.0      9.0        1046.0    166.0        1056.0   \n",
      "1               4.0    955.0         103.0   1174.0          92.0   \n",
      "2               9.0      0.0         939.0    131.0        1140.0   \n",
      "3               9.0      2.0         948.0    172.0        1092.0   \n",
      "4               6.0      5.0         836.0    131.0        1205.0   \n",
      "...             ...      ...           ...      ...           ...   \n",
      "9352           13.0      5.0        1101.0    472.0         539.0   \n",
      "9353           11.0      4.0        1027.0    353.0         604.0   \n",
      "9354           12.0      4.0        1063.0    293.0         603.0   \n",
      "9355            9.0      5.0         961.0    235.0         702.0   \n",
      "9356           11.0      9.0        1047.0    265.0         654.0   \n",
      "\n",
      "      PT08.S5(O3)       T      RH    AH  col_1  col_2  col_3   col_4  \\\n",
      "0           113.0  1692.0  1268.0  13.0    6.0   48.0    9.0     0.0   \n",
      "1          1559.0   972.0    13.0   3.0   47.0    7.0    0.0  7255.0   \n",
      "2           114.0  1555.0  1074.0  11.0    9.0   54.0    0.0     0.0   \n",
      "3           122.0  1584.0  1203.0  11.0    0.0   60.0    0.0     0.0   \n",
      "4           116.0  1490.0  1110.0  11.0    2.0   59.0    6.0     0.0   \n",
      "...           ...     ...     ...   ...    ...    ...    ...     ...   \n",
      "9352        190.0  1374.0  1729.0  21.0    9.0   29.0    3.0     0.0   \n",
      "9353        179.0  1264.0  1269.0  24.0    3.0   23.0    7.0     0.0   \n",
      "9354        175.0  1241.0  1092.0  26.0    9.0   18.0    3.0     0.0   \n",
      "9355        156.0  1041.0   770.0  28.0    3.0   13.0    5.0     0.0   \n",
      "9356        168.0  1129.0   816.0  28.0    5.0   13.0    1.0     0.0   \n",
      "\n",
      "                X  \n",
      "0     7578.000000  \n",
      "1     5245.150253  \n",
      "2     7502.000000  \n",
      "3     7867.000000  \n",
      "4     7888.000000  \n",
      "...           ...  \n",
      "9352  7568.000000  \n",
      "9353  7119.000000  \n",
      "9354  6406.000000  \n",
      "9355  5139.000000  \n",
      "9356  5028.000000  \n",
      "\n",
      "[9357 rows x 20 columns]\n"
     ]
    }
   ],
   "source": [
    "print(data_mode)"
   ]
  }
 ],
 "metadata": {
  "kernelspec": {
   "display_name": "Python 3",
   "language": "python",
   "name": "python3"
  },
  "language_info": {
   "codemirror_mode": {
    "name": "ipython",
    "version": 3
   },
   "file_extension": ".py",
   "mimetype": "text/x-python",
   "name": "python",
   "nbconvert_exporter": "python",
   "pygments_lexer": "ipython3",
   "version": "3.7.4"
  }
 },
 "nbformat": 4,
 "nbformat_minor": 4
}
